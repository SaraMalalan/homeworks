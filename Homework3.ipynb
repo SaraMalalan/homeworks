{
 "cells": [
  {
   "cell_type": "markdown",
   "metadata": {},
   "source": [
    "# SARA MALALAN"
   ]
  },
  {
   "cell_type": "markdown",
   "metadata": {},
   "source": [
    "## Homework 3"
   ]
  },
  {
   "cell_type": "code",
   "execution_count": 7,
   "metadata": {},
   "outputs": [
    {
     "name": "stdout",
     "output_type": "stream",
     "text": [
      "Device: cpu\n"
     ]
    }
   ],
   "source": [
    "import numpy as np\n",
    "from utils.misc import get_params_num, get_accuracy\n",
    "\n",
    "import torch\n",
    "from torch import nn\n",
    "from torch import optim\n",
    "import torch.nn.functional as F\n",
    "\n",
    "import torchvision\n",
    "from torchvision import transforms\n",
    "from IPython import display\n",
    "\n",
    "torch.manual_seed(2)\n",
    "\n",
    "device = torch.device(\"cuda:0\" if torch.cuda.is_available() else \"cpu\")\n",
    "print('Device: {}'.format(device))"
   ]
  },
  {
   "cell_type": "code",
   "execution_count": 8,
   "metadata": {},
   "outputs": [
    {
     "name": "stdout",
     "output_type": "stream",
     "text": [
      "Files already downloaded and verified\n",
      "Files already downloaded and verified\n",
      "CIFAR images shape: (3, 32, 32)\n"
     ]
    }
   ],
   "source": [
    "# import CIFAR10\n",
    "transform = transforms.Compose(\n",
    "    [transforms.ToTensor(),\n",
    "     transforms.Normalize((0.5, 0.5, 0.5), (0.5, 0.5, 0.5))])\n",
    "\n",
    "trainset = torchvision.datasets.CIFAR10(root='./data', train=True,\n",
    "                                        download=True, transform=transform)\n",
    "trainloader = torch.utils.data.DataLoader(trainset, batch_size=64,\n",
    "                                          shuffle=True, num_workers=2)\n",
    "\n",
    "testset = torchvision.datasets.CIFAR10(root='./data', train=False,\n",
    "                                       download=True, transform=transform)\n",
    "testloader = torch.utils.data.DataLoader(testset, batch_size=64,\n",
    "                                         shuffle=False, num_workers=2)\n",
    "\n",
    "print(\"CIFAR images shape: {}\".format(tuple(trainset[0][0].shape)))"
   ]
  },
  {
   "cell_type": "code",
   "execution_count": 36,
   "metadata": {},
   "outputs": [
    {
     "name": "stdout",
     "output_type": "stream",
     "text": [
      "# of parameters: 83978\n",
      "CNN(\n",
      "  (conv1): Conv2d(3, 32, kernel_size=(3, 3), stride=(1, 1))\n",
      "  (conv2): Conv2d(32, 128, kernel_size=(3, 3), stride=(1, 1))\n",
      "  (maxpool): AvgPool2d(kernel_size=2, stride=2, padding=0)\n",
      "  (out): Linear(in_features=4608, out_features=10, bias=True)\n",
      ")\n"
     ]
    }
   ],
   "source": [
    "class CNN(nn.Module):\n",
    "    def __init__(self):\n",
    "        super(CNN, self).__init__()\n",
    "        self.input_dim = 3 * 32 * 32\n",
    "        self.n_classes = 10\n",
    "        \n",
    "        self.conv1 = nn.Conv2d(in_channels=3, out_channels=32, kernel_size=3)\n",
    "        self.conv2 = nn.Conv2d(32, 128, kernel_size=3)\n",
    "        self.avgpool = nn.AvgPool2d(kernel_size=2)\n",
    "        self.out = nn.Linear(128 * 6 * 6, self.n_classes)\n",
    "        \n",
    "    def forward(self, x, verbose=False):\n",
    "        x = F.selu(self.conv1(x))\n",
    "        x = self.avgpool(x) \n",
    "        x = F.celu(self.conv2(x))\n",
    "        x = self.avgpool(x) \n",
    "        x = x.view(-1, 128 * 6 * 6)\n",
    "        x = self.out(x)\n",
    "        return x\n",
    "        \n",
    "        \n",
    "net = CNN()\n",
    "net.to(device)\n",
    "print(\"# of parameters: {}\".format(get_params_num(net)))\n",
    "print(net)"
   ]
  },
  {
   "cell_type": "code",
   "execution_count": 37,
   "metadata": {},
   "outputs": [
    {
     "name": "stdout",
     "output_type": "stream",
     "text": [
      "[EPOCH]: 19, [BATCH]: 750/782, [LOSS]: 0.963545560836792\n"
     ]
    }
   ],
   "source": [
    "lr = 0.001\n",
    "#momentum = 0.9\n",
    "epochs = 20\n",
    "\n",
    "n_batches = len(trainloader)\n",
    "\n",
    "criterion = nn.CrossEntropyLoss()\n",
    "optimizer = optim.Adam(net.parameters(), lr=lr)\n",
    "\n",
    "\n",
    "net.train() \n",
    "for e in range(epochs):\n",
    "    for i, data in enumerate(trainloader):\n",
    "        batch = data[0].to(device)\n",
    "        labels = data[1].to(device)      \n",
    "        outputs = net(batch)\n",
    "        loss = criterion(outputs, labels)\n",
    "        \n",
    "        optimizer.zero_grad()\n",
    "        loss.backward()\n",
    "        optimizer.step()\n",
    "        if i % 50 == 0:\n",
    "            print(\"[EPOCH]: {}, [BATCH]: {}/{}, [LOSS]: {}\".format(e, i, n_batches, loss.item()))\n",
    "            display.clear_output(wait=True)"
   ]
  },
  {
   "cell_type": "code",
   "execution_count": 38,
   "metadata": {},
   "outputs": [
    {
     "name": "stdout",
     "output_type": "stream",
     "text": [
      "Train accuracy: 0.70642\n",
      "Test accuracy: 0.6418\n"
     ]
    }
   ],
   "source": [
    "acc_train = get_accuracy(trainloader, net, device=device)\n",
    "acc_test = get_accuracy(testloader, net, device=device)\n",
    "print(\"Train accuracy: {}\\nTest accuracy: {}\".format(acc_train, acc_test))"
   ]
  },
  {
   "cell_type": "code",
   "execution_count": null,
   "metadata": {},
   "outputs": [],
   "source": []
  }
 ],
 "metadata": {
  "kernelspec": {
   "display_name": "Python 3",
   "language": "python",
   "name": "python3"
  },
  "language_info": {
   "codemirror_mode": {
    "name": "ipython",
    "version": 3
   },
   "file_extension": ".py",
   "mimetype": "text/x-python",
   "name": "python",
   "nbconvert_exporter": "python",
   "pygments_lexer": "ipython3",
   "version": "3.7.6"
  }
 },
 "nbformat": 4,
 "nbformat_minor": 4
}
